{
 "cells": [
  {
   "cell_type": "markdown",
   "metadata": {},
   "source": [
    "This notebook tests that all modules can be correctly imported. To do so, please click on the cell below and press shift-enter. Running the cell may take some time. "
   ]
  },
  {
   "cell_type": "code",
   "execution_count": 4,
   "metadata": {},
   "outputs": [
    {
     "name": "stdout",
     "output_type": "stream",
     "text": [
      "All modules have been imported successfully.\n"
     ]
    }
   ],
   "source": [
    "try:\n",
    "    import numpy\n",
    "    import matplotlib\n",
    "    import sklearn\n",
    "    import scipy\n",
    "    import pandas\n",
    "    import seaborn\n",
    "    import h5py\n",
    "    import tensorflow as tf\n",
    "    import keras\n",
    "    print(\"All modules have been imported successfully.\")\n",
    "except ImportError as e:\n",
    "    print(\"There was an error importing these modules. Please make sure you followed all instructions correctly. The error message was:\")\n",
    "    print(e)"
   ]
  },
  {
   "cell_type": "code",
   "execution_count": null,
   "metadata": {
    "collapsed": true
   },
   "outputs": [],
   "source": []
  }
 ],
 "metadata": {
  "kernelspec": {
   "display_name": "Python 3",
   "language": "python",
   "name": "python3"
  },
  "language_info": {
   "codemirror_mode": {
    "name": "ipython",
    "version": 3
   },
   "file_extension": ".py",
   "mimetype": "text/x-python",
   "name": "python",
   "nbconvert_exporter": "python",
   "pygments_lexer": "ipython3",
   "version": "3.6.1"
  }
 },
 "nbformat": 4,
 "nbformat_minor": 2
}
