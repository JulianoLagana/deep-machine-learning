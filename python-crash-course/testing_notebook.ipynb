{
 "cells": [
  {
   "cell_type": "markdown",
   "metadata": {},
   "source": [
    "This notebook tests that the correct Python version is installed, and all modules can be correctly imported. To do so, please click on the cell below and run through the cells by keep pressing shift-enter. Running the cells may take some time. "
   ]
  },
  {
   "cell_type": "code",
   "execution_count": null,
   "metadata": {},
   "outputs": [],
   "source": [
    "from platform import python_version_tuple\n",
    "assert python_version_tuple()[:2] == ('3','9'), \"You are not running Python 3.9. Make sure to run Python through the course environment.\""
   ]
  },
  {
   "cell_type": "code",
   "execution_count": null,
   "metadata": {
    "scrolled": true
   },
   "outputs": [],
   "source": [
    "# This will produce a warning regarding a mismatch between\n",
    "# Scipy and Numpy but it does not affect the functionality we require.\n",
    "try:\n",
    "    import numpy\n",
    "    import matplotlib\n",
    "    import sklearn\n",
    "    import pandas\n",
    "    import seaborn\n",
    "    import h5py\n",
    "    import torch\n",
    "    print(\"All modules have been imported successfully.\")\n",
    "except ImportError as e:\n",
    "    print(\"There was an error importing these modules. Please make sure you followed all instructions correctly. The error message was:\")\n",
    "    print(e)"
   ]
  }
 ],
 "metadata": {
  "kernelspec": {
   "display_name": "Python 3",
   "language": "python",
   "name": "python3"
  },
  "language_info": {
   "codemirror_mode": {
    "name": "ipython",
    "version": 3
   },
   "file_extension": ".py",
   "mimetype": "text/x-python",
   "name": "python",
   "nbconvert_exporter": "python",
   "pygments_lexer": "ipython3",
   "version": "3.9.12"
  }
 },
 "nbformat": 4,
 "nbformat_minor": 2
}
