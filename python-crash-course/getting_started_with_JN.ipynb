{
 "cells": [
  {
   "cell_type": "markdown",
   "metadata": {},
   "source": [
    "## Basic Jupyter notebook knowledge\n",
    "Jupyter notebooks allow us to mix text, code and illustration in an manner that we find useful both to learn and explore topics such Python programming and deep learning. You can find a nice Jupyter notebook tutorial here:\n",
    "https://www.datacamp.com/community/tutorials/tutorial-jupyter-notebook#gs.H2JS_LA\n",
    "\n",
    "In this notebook, we will focus on how to use it. First of all, notebooks contain cells that are primarily of two types:\n",
    "- Markdown: where we can write formatted text like this. The cell you are reading right now is such a Markdown cell. You can read the Markdown source code by double clicking in the cell. To return to the formatted text, you simply run the cell (see below). You can learn more about Markdown [here](https://www.markdownguide.org/).\n",
    "- Code: where you can write code. The code is then executed using a kernel designed to run Python code.\n",
    "\n",
    "Let us first learn how to create, delete and run cells of different types. "
   ]
  },
  {
   "cell_type": "markdown",
   "metadata": {},
   "source": [
    "- Given a cell, you can determine if it should be a Markdown cell or a Code cell using the scroll down menu at the top of the page. \n",
    "- To edit a cell, you click on it and write. A normal return, simply creates a new line whereas shift-return **runs** the cell.\n",
    "- To execute a cell and simultaneously create a new cell below, use alt-return. \n",
    "\n",
    "\n",
    "#### Task 1: \n",
    "- Create a markdown cell that contains a headline and a list with some text (that you have written yourself). "
   ]
  },
  {
   "cell_type": "code",
   "execution_count": null,
   "metadata": {},
   "outputs": [],
   "source": []
  },
  {
   "cell_type": "markdown",
   "metadata": {},
   "source": [
    "#### Task 2:\n",
    "- Create an empty cell. If you have clicked on it, the frame around it should be green. \n",
    "- Press Esc. This will change the color from green to blue.\n",
    "- Press h. This should give you a list of Keyboard shortcuts. \n",
    "- Check the shortcuts for deleting a cell and adding cells below/above the current cell, and describe the shortcuts in a Markdown cell. Try them out to check that they work!"
   ]
  },
  {
   "cell_type": "markdown",
   "metadata": {},
   "source": [
    "#### Task 3:\n",
    "Another useful skill, is to be able to interupt a kernel that is taking too much time to finish.\n",
    "- Run the code in the next cell. Note that it will run indefinitely. A cell that is being executed is marked by [*] on the left hand side.  \n",
    "- Use the Kernel menu, and the button \"Interrupt\" to stop the while loop."
   ]
  },
  {
   "cell_type": "code",
   "execution_count": null,
   "metadata": {},
   "outputs": [],
   "source": [
    "x = 0\n",
    "while 1==1:\n",
    "    x=+ 1"
   ]
  },
  {
   "cell_type": "markdown",
   "metadata": {},
   "source": [
    "#### Task 4:\n",
    "Let us finish this introduction, with a small advice regarding when you use functions and methods.\n",
    "- Place the cursor in the function 'divmod' below.\n",
    "- Type shift-tab to check the documentation. It is often convenient to obtain the documentation like this!\n",
    "- Write down first sentence in the 'Docstring' in a separate Markdown cell."
   ]
  },
  {
   "cell_type": "code",
   "execution_count": null,
   "metadata": {},
   "outputs": [],
   "source": [
    "(x,y) = divmod(9,4)\n",
    "print(x)\n",
    "print(y)"
   ]
  },
  {
   "cell_type": "markdown",
   "metadata": {
    "collapsed": true
   },
   "source": [
    "## "
   ]
  }
 ],
 "metadata": {
  "kernelspec": {
   "display_name": "Python 3",
   "language": "python",
   "name": "python3"
  },
  "language_info": {
   "codemirror_mode": {
    "name": "ipython",
    "version": 3
   },
   "file_extension": ".py",
   "mimetype": "text/x-python",
   "name": "python",
   "nbconvert_exporter": "python",
   "pygments_lexer": "ipython3",
   "version": "3.9.12"
  }
 },
 "nbformat": 4,
 "nbformat_minor": 2
}
